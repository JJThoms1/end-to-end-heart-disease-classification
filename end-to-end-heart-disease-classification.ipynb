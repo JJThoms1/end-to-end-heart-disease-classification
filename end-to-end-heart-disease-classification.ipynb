{
 "cells": [
  {
   "cell_type": "markdown",
   "id": "063d370c-be36-4d65-9711-388777ffa676",
   "metadata": {},
   "source": [
    "# Predicting heart disease using Machine Learning\n",
    "\n",
    "This notebook looks into using various Python-based Machine Learning and data science libraries in an attempt to build a machine learning model capable of predicting whether or not someone has heart disease based on their medical attributes.\n",
    "\n",
    "We're going to take the following approach:\n",
    "1. Problem definition\n",
    "2. Data\n",
    "3. Evaluation\n",
    "4. Features\n",
    "5. Modelling\n",
    "6. Experimentation\n",
    "\n",
    "## 1. Problem Definition\n",
    "\n",
    "In a statement,\n",
    "> Given clinical parameters about a patient, can we predict whether or not a patient has heart disease?\n",
    "\n",
    "## 2. Data\n",
    "\n",
    "The original data came from the Cleavland data from the UCI Machine Learning Repository: https://archive.ics.uci.edu/dataset/45/heart+disease\n",
    "\n",
    "There is also a version of it available on Kaggle: https://www.kaggle.com/datasets/johnsmith88/heart-disease-dataset\n",
    "\n",
    "## 3. Evaluation\n",
    "\n",
    "> "
   ]
  },
  {
   "cell_type": "code",
   "execution_count": null,
   "id": "88d8d279-14c3-4872-bd7e-45e3c4adc9e8",
   "metadata": {},
   "outputs": [],
   "source": [
    "# Create data dictionary\n",
    "\n",
    "\n",
    "ageage in years\n",
    "sex (1 = male; 0 = female)\n",
    "cpchest pain type\n",
    "trestbpsresting blood pressure (in mm Hg on admission to the hospital)\n",
    "cholserum cholestoral in mg/dl\n",
    "fbs (fasting blood sugar › 120 mg/dl) (1 = true; 0 = false)\n",
    "restecgresting electrocardiographic results\n",
    "thalachmaximum heart rate achieved\n",
    "exangexercise induced angina (1 = yes; 0 = no)\n",
    "oldpeakST depression indyad by exercise relative to rest\n",
    "slopethe slope of the pea\n",
    "exercise ST segment\n",
    "canumber of major vessell (0-3) colored by flourosopy\n",
    "thal3 = normal; 6 = fixed defect; 7 = reversable defect\n",
    "targetl or 0"
   ]
  }
 ],
 "metadata": {
  "kernelspec": {
   "display_name": "Python 3 (ipykernel)",
   "language": "python",
   "name": "python3"
  },
  "language_info": {
   "codemirror_mode": {
    "name": "ipython",
    "version": 3
   },
   "file_extension": ".py",
   "mimetype": "text/x-python",
   "name": "python",
   "nbconvert_exporter": "python",
   "pygments_lexer": "ipython3",
   "version": "3.12.2"
  }
 },
 "nbformat": 4,
 "nbformat_minor": 5
}
